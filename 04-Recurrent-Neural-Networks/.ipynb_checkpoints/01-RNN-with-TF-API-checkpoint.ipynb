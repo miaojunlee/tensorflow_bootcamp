{
 "cells": [
  {
   "cell_type": "markdown",
   "metadata": {},
   "source": [
    "# RNN with TensorFlow API"
   ]
  },
  {
   "cell_type": "code",
   "execution_count": 1,
   "metadata": {},
   "outputs": [],
   "source": [
    "import numpy as np\n",
    "import tensorflow as tf\n",
    "import matplotlib.pyplot as plt\n",
    "%matplotlib inline"
   ]
  },
  {
   "cell_type": "code",
   "execution_count": 3,
   "metadata": {},
   "outputs": [
    {
     "data": {
      "text/plain": [
       "-0.9589242746631385"
      ]
     },
     "execution_count": 3,
     "metadata": {},
     "output_type": "execute_result"
    }
   ],
   "source": [
    "np.sin(5)"
   ]
  },
  {
   "cell_type": "markdown",
   "metadata": {},
   "source": [
    "### The Data"
   ]
  },
  {
   "cell_type": "code",
   "execution_count": 5,
   "metadata": {},
   "outputs": [],
   "source": [
    "class TimeSeriesData():\n",
    "    \n",
    "    def __init__(self,num_points,xmin,xmax):\n",
    "        \n",
    "        self.xmin = xmin\n",
    "        self.xmax = xmax\n",
    "        self.num_points = num_points\n",
    "        self.resolution = (xmax-xmin)/num_points\n",
    "        self.x_data = np.linspace(xmin,xmax,num_points)\n",
    "        self.y_true = np.sin(self.x_data)\n",
    "    \n",
    "    def ret_true(self,x_series):\n",
    "        return np.sin(x_series)\n",
    "    \n",
    "    def next_batch(self,batch_size,steps,return_batch_ts=False):\n",
    "        \n",
    "        # Grab a random starting point for each batch\n",
    "        rand_start = np.random.rand(batch_size,1) \n",
    "        \n",
    "        # Convert to be on time series\n",
    "        ts_start = rand_start * (self.xmax- self.xmin - (steps*self.resolution) )\n",
    "        \n",
    "        # Create batch Time Series on t axis\n",
    "        batch_ts = ts_start + np.arange(0.0,steps+1) * self.resolution\n",
    "        \n",
    "        # Create Y data for time series in the batches\n",
    "        y_batch = np.sin(batch_ts)\n",
    "        \n",
    "        # Format for RNN\n",
    "        if return_batch_ts:\n",
    "            return y_batch[:, :-1].reshape(-1, steps, 1), y_batch[:, 1:].reshape(-1, steps, 1) ,batch_ts\n",
    "        \n",
    "        else:\n",
    "            \n",
    "            return y_batch[:, :-1].reshape(-1, steps, 1), y_batch[:, 1:].reshape(-1, steps, 1) \n",
    "        "
   ]
  },
  {
   "cell_type": "code",
   "execution_count": 6,
   "metadata": {},
   "outputs": [],
   "source": [
    "ts_data = TimeSeriesData(250,0,10)"
   ]
  },
  {
   "cell_type": "code",
   "execution_count": 11,
   "metadata": {},
   "outputs": [
    {
     "data": {
      "text/plain": [
       "250"
      ]
     },
     "execution_count": 11,
     "metadata": {},
     "output_type": "execute_result"
    }
   ],
   "source": [
    "len(ts_data.y_true)"
   ]
  },
  {
   "cell_type": "code",
   "execution_count": 15,
   "metadata": {},
   "outputs": [
    {
     "data": {
      "text/plain": [
       "array([0.        , 0.04014985, 0.08023495, 0.12019066, 0.15995254,\n",
       "       0.19945647, 0.23863875, 0.27743618, 0.3157862 , 0.35362697,\n",
       "       0.39089746, 0.42753756, 0.46348819, 0.49869137, 0.53309033,\n",
       "       0.56662959, 0.59925508, 0.63091417, 0.66155581, 0.69113058])"
      ]
     },
     "execution_count": 15,
     "metadata": {},
     "output_type": "execute_result"
    }
   ],
   "source": [
    "ts_data.y_true[:20]"
   ]
  },
  {
   "cell_type": "code",
   "execution_count": 14,
   "metadata": {},
   "outputs": [
    {
     "data": {
      "text/plain": [
       "array([0.        , 0.04016064, 0.08032129, 0.12048193, 0.16064257,\n",
       "       0.20080321, 0.24096386, 0.2811245 , 0.32128514, 0.36144578,\n",
       "       0.40160643, 0.44176707, 0.48192771, 0.52208835, 0.562249  ,\n",
       "       0.60240964, 0.64257028, 0.68273092, 0.72289157, 0.76305221])"
      ]
     },
     "execution_count": 14,
     "metadata": {},
     "output_type": "execute_result"
    }
   ],
   "source": [
    "ts_data.x_data[:20]"
   ]
  },
  {
   "cell_type": "code",
   "execution_count": 16,
   "metadata": {},
   "outputs": [
    {
     "data": {
      "text/plain": [
       "0.04014984517511126"
      ]
     },
     "execution_count": 16,
     "metadata": {},
     "output_type": "execute_result"
    }
   ],
   "source": [
    "np.sin(0.04016064)"
   ]
  },
  {
   "cell_type": "code",
   "execution_count": 18,
   "metadata": {},
   "outputs": [
    {
     "data": {
      "image/png": "[encoded data removed]",
      "text/plain": [
       "<Figure size 432x288 with 1 Axes>"
      ]
     },
     "metadata": {
      "needs_background": "light"
     },
     "output_type": "display_data"
    }
   ],
   "source": [
    "plt.plot(ts_data.x_data,ts_data.y_true);"
   ]
  },
  {
   "cell_type": "code",
   "execution_count": 19,
   "metadata": {},
   "outputs": [],
   "source": [
    "# Num of steps in batch (also used for prediction steps into the future)\n",
    "num_time_steps = 30"
   ]
  },
  {
   "cell_type": "code",
   "execution_count": 38,
   "metadata": {},
   "outputs": [],
   "source": [
    "# create 30 steps for the batch size of 1\n",
    "y1,y2,ts = ts_data.next_batch(1,num_time_steps,True)"
   ]
  },
  {
   "cell_type": "code",
   "execution_count": null,
   "metadata": {},
   "outputs": [],
   "source": [
    "print(y1.shape)\n",
    "y1"
   ]
  },
  {
   "cell_type": "code",
   "execution_count": 35,
   "metadata": {},
   "outputs": [
    {
     "name": "stdout",
     "output_type": "stream",
     "text": [
      "(1, 30, 1)\n",
      "(30,)\n"
     ]
    },
    {
     "data": {
      "text/plain": [
       "array([0.9759867 , 0.9839169 , 0.99027304, 0.99504495, 0.998225  ,\n",
       "       0.99980811, 0.99979174, 0.99817591, 0.99496321, 0.99015879,\n",
       "       0.98377032, 0.97580803, 0.96628466, 0.95521543, 0.94261807,\n",
       "       0.92851272, 0.91292194, 0.89587069, 0.87738623, 0.85749814,\n",
       "       0.83623824, 0.81364053, 0.78974118, 0.7645784 , 0.73819247,\n",
       "       0.71062558, 0.68192185, 0.65212718, 0.62128925, 0.58945739])"
      ]
     },
     "execution_count": 35,
     "metadata": {},
     "output_type": "execute_result"
    }
   ],
   "source": [
    "print(y2.shape)\n",
    "print(y2.flatten().shape)\n",
    "y2.flatten()"
   ]
  },
  {
   "cell_type": "code",
   "execution_count": 28,
   "metadata": {},
   "outputs": [
    {
     "data": {
      "text/plain": [
       "(1, 31)"
      ]
     },
     "execution_count": 28,
     "metadata": {},
     "output_type": "execute_result"
    }
   ],
   "source": [
    "# ts is the actual time series\n",
    "ts.shape"
   ]
  },
  {
   "cell_type": "code",
   "execution_count": 39,
   "metadata": {},
   "outputs": [
    {
     "data": {
      "text/plain": [
       "[<matplotlib.lines.Line2D at 0x25e10660308>]"
      ]
     },
     "execution_count": 39,
     "metadata": {},
     "output_type": "execute_result"
    },
    {
     "data": {
      "image/png": "[encoded data removed]",
      "text/plain": [
       "<Figure size 432x288 with 1 Axes>"
      ]
     },
     "metadata": {
      "needs_background": "light"
     },
     "output_type": "display_data"
    }
   ],
   "source": [
    "plt.plot(ts.flatten()[1:],y2.flatten(),'*')"
   ]
  },
  {
   "cell_type": "code",
   "execution_count": 40,
   "metadata": {},
   "outputs": [
    {
     "data": {
      "image/png": "[encoded data removed]",
      "text/plain": [
       "<Figure size 432x288 with 1 Axes>"
      ]
     },
     "metadata": {
      "needs_background": "light"
     },
     "output_type": "display_data"
    }
   ],
   "source": [
    "plt.plot(ts_data.x_data,ts_data.y_true,label='Sin(t)')\n",
    "plt.plot(ts.flatten()[1:],y2.flatten(),'*',label='Single Training Instance')\n",
    "plt.legend()\n",
    "plt.tight_layout()"
   ]
  },
  {
   "cell_type": "markdown",
   "metadata": {},
   "source": [
    "### A Training Instance and what to predict\n",
    "\n",
    "We are trying to predict a time series shifted over by t+1"
   ]
  },
  {
   "cell_type": "code",
   "execution_count": 41,
   "metadata": {},
   "outputs": [],
   "source": [
    "train_inst = np.linspace(5,5 + ts_data.resolution * (num_time_steps + 1), num_time_steps+1)"
   ]
  },
  {
   "cell_type": "code",
   "execution_count": 42,
   "metadata": {},
   "outputs": [
    {
     "data": {
      "text/plain": [
       "array([5.        , 5.04133333, 5.08266667, 5.124     , 5.16533333,\n",
       "       5.20666667, 5.248     , 5.28933333, 5.33066667, 5.372     ,\n",
       "       5.41333333, 5.45466667, 5.496     , 5.53733333, 5.57866667,\n",
       "       5.62      , 5.66133333, 5.70266667, 5.744     , 5.78533333,\n",
       "       5.82666667, 5.868     , 5.90933333, 5.95066667, 5.992     ,\n",
       "       6.03333333, 6.07466667, 6.116     , 6.15733333, 6.19866667,\n",
       "       6.24      ])"
      ]
     },
     "execution_count": 42,
     "metadata": {},
     "output_type": "execute_result"
    }
   ],
   "source": [
    "train_inst"
   ]
  },
  {
   "cell_type": "code",
   "execution_count": 10,
   "metadata": {},
   "outputs": [
    {
     "data": {
      "text/plain": [
       "[<matplotlib.lines.Line2D at 0x1a8c3e50c88>]"
      ]
     },
     "execution_count": 10,
     "metadata": {},
     "output_type": "execute_result"
    },
    {
     "data": {
      "image/png": "[encoded data removed]",
      "text/plain": [
       "<matplotlib.figure.Figure at 0x1a8c3de3080>"
      ]
     },
     "metadata": {},
     "output_type": "display_data"
    }
   ],
   "source": [
    "plt.title(\"A training instance\", fontsize=14)\n",
    "plt.plot(train_inst[:-1], ts_data.ret_true(train_inst[:-1]), \"bo\", markersize=15,alpha=0.5 ,label=\"instance\")\n",
    "plt.plot(train_inst[1:], ts_data.ret_true(train_inst[1:]), \"ko\", markersize=7, label=\"target\")"
   ]
  },
  {
   "cell_type": "markdown",
   "metadata": {},
   "source": [
    "___________"
   ]
  },
  {
   "cell_type": "markdown",
   "metadata": {},
   "source": [
    "# Creating the Model"
   ]
  },
  {
   "cell_type": "code",
   "execution_count": 43,
   "metadata": {},
   "outputs": [],
   "source": [
    "tf.reset_default_graph()"
   ]
  },
  {
   "cell_type": "markdown",
   "metadata": {},
   "source": [
    "### Constants"
   ]
  },
  {
   "cell_type": "code",
   "execution_count": 44,
   "metadata": {},
   "outputs": [],
   "source": [
    "# Just one feature, the time series\n",
    "num_inputs = 1\n",
    "# 100 neuron layer, play with this\n",
    "num_neurons = 100\n",
    "# Just one output, predicted time series\n",
    "num_outputs = 1\n",
    "# learning rate, 0.0001 default, but you can play with this\n",
    "learning_rate = 0.0001\n",
    "# how many iterations to go through (training steps), you can play with this\n",
    "num_train_iterations = 2000\n",
    "# Size of the batch of data\n",
    "batch_size = 1"
   ]
  },
  {
   "cell_type": "markdown",
   "metadata": {},
   "source": [
    "### Placeholders"
   ]
  },
  {
   "cell_type": "code",
   "execution_count": 13,
   "metadata": {
    "collapsed": true
   },
   "outputs": [],
   "source": [
    "X = tf.placeholder(tf.float32, [None, num_time_steps, num_inputs])\n",
    "y = tf.placeholder(tf.float32, [None, num_time_steps, num_outputs])"
   ]
  },
  {
   "cell_type": "markdown",
   "metadata": {},
   "source": [
    "____\n",
    "____\n",
    "### RNN Cell Layer\n",
    "\n",
    "Play around with the various cells in this section, compare how they perform against each other."
   ]
  },
  {
   "cell_type": "code",
   "execution_count": null,
   "metadata": {},
   "outputs": [],
   "source": [
    "# tf.nn.rnn_cell.BasicRNNCell in 2.0 "
   ]
  },
  {
   "cell_type": "code",
   "execution_count": 45,
   "metadata": {},
   "outputs": [
    {
     "name": "stdout",
     "output_type": "stream",
     "text": [
      "WARNING:tensorflow:\n",
      "The TensorFlow contrib module will not be included in TensorFlow 2.0.\n",
      "For more information, please see:\n",
      "  * https://github.com/tensorflow/community/blob/master/rfcs/20180907-contrib-sunset.md\n",
      "  * https://github.com/tensorflow/addons\n",
      "  * https://github.com/tensorflow/io (for I/O related ops)\n",
      "If you depend on functionality not listed there, please file an issue.\n",
      "\n",
      "WARNING:tensorflow:From <ipython-input-45-9699526a1c2c>:2: BasicRNNCell.__init__ (from tensorflow.python.ops.rnn_cell_impl) is deprecated and will be removed in a future version.\n",
      "Instructions for updating:\n",
      "This class is equivalent as tf.keras.layers.SimpleRNNCell, and will be replaced by that in Tensorflow 2.0.\n"
     ]
    }
   ],
   "source": [
    "cell = tf.contrib.rnn.OutputProjectionWrapper(\n",
    "    tf.contrib.rnn.BasicRNNCell(num_units=num_neurons, activation=tf.nn.relu),\n",
    "    output_size=num_outputs)"
   ]
  },
  {
   "cell_type": "code",
   "execution_count": 15,
   "metadata": {
    "collapsed": true
   },
   "outputs": [],
   "source": [
    "# cell = tf.contrib.rnn.OutputProjectionWrapper(\n",
    "#     tf.contrib.rnn.BasicLSTMCell(num_units=num_neurons, activation=tf.nn.relu),\n",
    "#     output_size=num_outputs)"
   ]
  },
  {
   "cell_type": "code",
   "execution_count": 16,
   "metadata": {
    "collapsed": true
   },
   "outputs": [],
   "source": [
    "# n_neurons = 100\n",
    "# n_layers = 3\n",
    "\n",
    "# cell = tf.contrib.rnn.MultiRNNCell([tf.contrib.rnn.BasicRNNCell(num_units=n_neurons)\n",
    "#           for layer in range(n_layers)])"
   ]
  },
  {
   "cell_type": "code",
   "execution_count": 17,
   "metadata": {
    "collapsed": true
   },
   "outputs": [],
   "source": [
    "# cell = tf.contrib.rnn.BasicLSTMCell(num_units=num_neurons, activation=tf.nn.relu)"
   ]
  },
  {
   "cell_type": "code",
   "execution_count": 18,
   "metadata": {
    "collapsed": true
   },
   "outputs": [],
   "source": [
    "# n_neurons = 100\n",
    "# n_layers = 3\n",
    "\n",
    "# cell = tf.contrib.rnn.MultiRNNCell([tf.contrib.rnn.BasicLSTMCell(num_units=n_neurons)\n",
    "#           for layer in range(n_layers)])"
   ]
  },
  {
   "cell_type": "markdown",
   "metadata": {},
   "source": [
    "_____\n",
    "_____"
   ]
  },
  {
   "cell_type": "markdown",
   "metadata": {},
   "source": [
    "### Dynamic RNN Cell"
   ]
  },
  {
   "cell_type": "code",
   "execution_count": 19,
   "metadata": {
    "collapsed": true
   },
   "outputs": [],
   "source": [
    "outputs, states = tf.nn.dynamic_rnn(cell, X, dtype=tf.float32)"
   ]
  },
  {
   "cell_type": "markdown",
   "metadata": {},
   "source": [
    "### Loss Function and Optimizer"
   ]
  },
  {
   "cell_type": "code",
   "execution_count": 20,
   "metadata": {
    "collapsed": true
   },
   "outputs": [],
   "source": [
    "loss = tf.reduce_mean(tf.square(outputs - y)) # MSE\n",
    "optimizer = tf.train.AdamOptimizer(learning_rate=learning_rate)\n",
    "train = optimizer.minimize(loss)"
   ]
  },
  {
   "cell_type": "markdown",
   "metadata": {},
   "source": [
    "#### Init Variables"
   ]
  },
  {
   "cell_type": "code",
   "execution_count": 21,
   "metadata": {
    "collapsed": true
   },
   "outputs": [],
   "source": [
    "init = tf.global_variables_initializer()"
   ]
  },
  {
   "cell_type": "markdown",
   "metadata": {},
   "source": [
    "## Session"
   ]
  },
  {
   "cell_type": "code",
   "execution_count": 24,
   "metadata": {
    "collapsed": true
   },
   "outputs": [],
   "source": [
    "# ONLY FOR GPU USERS:\n",
    "# https://stackoverflow.com/questions/34199233/how-to-prevent-tensorflow-from-allocating-the-totality-of-a-gpu-memory\n",
    "gpu_options = tf.GPUOptions(per_process_gpu_memory_fraction=0.75)"
   ]
  },
  {
   "cell_type": "code",
   "execution_count": 25,
   "metadata": {
    "collapsed": true
   },
   "outputs": [],
   "source": [
    "saver = tf.train.Saver()"
   ]
  },
  {
   "cell_type": "code",
   "execution_count": 26,
   "metadata": {},
   "outputs": [
    {
     "name": "stdout",
     "output_type": "stream",
     "text": [
      "0 \tMSE: 0.779362\n",
      "100 \tMSE: 0.275911\n",
      "200 \tMSE: 0.0927696\n",
      "300 \tMSE: 0.013662\n",
      "400 \tMSE: 0.00182843\n",
      "500 \tMSE: 0.0175511\n",
      "600 \tMSE: 0.0148693\n",
      "700 \tMSE: 0.00287719\n",
      "800 \tMSE: 0.0032798\n",
      "900 \tMSE: 0.000910895\n",
      "1000 \tMSE: 0.0206152\n",
      "1100 \tMSE: 0.0103404\n",
      "1200 \tMSE: 0.00505896\n",
      "1300 \tMSE: 0.00421907\n",
      "1400 \tMSE: 0.0153266\n",
      "1500 \tMSE: 0.000523155\n",
      "1600 \tMSE: 0.00333744\n",
      "1700 \tMSE: 0.00301509\n",
      "1800 \tMSE: 0.000480476\n",
      "1900 \tMSE: 0.0106982\n"
     ]
    }
   ],
   "source": [
    "with tf.Session(config=tf.ConfigProto(gpu_options=gpu_options)) as sess:\n",
    "    sess.run(init)\n",
    "    \n",
    "    for iteration in range(num_train_iterations):\n",
    "        \n",
    "        X_batch, y_batch = ts_data.next_batch(batch_size, num_time_steps)\n",
    "        sess.run(train, feed_dict={X: X_batch, y: y_batch})\n",
    "        \n",
    "        if iteration % 100 == 0:\n",
    "            \n",
    "            mse = loss.eval(feed_dict={X: X_batch, y: y_batch})\n",
    "            print(iteration, \"\\tMSE:\", mse)\n",
    "    \n",
    "    # Save Model for Later\n",
    "    saver.save(sess, \"./rnn_time_series_model\")"
   ]
  },
  {
   "cell_type": "markdown",
   "metadata": {},
   "source": [
    "### Predicting a time series t+1"
   ]
  },
  {
   "cell_type": "code",
   "execution_count": 27,
   "metadata": {},
   "outputs": [
    {
     "name": "stdout",
     "output_type": "stream",
     "text": [
      "INFO:tensorflow:Restoring parameters from ./rnn_time_series_model\n"
     ]
    }
   ],
   "source": [
    "with tf.Session() as sess:                          \n",
    "    saver.restore(sess, \"./rnn_time_series_model\")   \n",
    "\n",
    "    X_new = np.sin(np.array(train_inst[:-1].reshape(-1, num_time_steps, num_inputs)))\n",
    "    y_pred = sess.run(outputs, feed_dict={X: X_new})"
   ]
  },
  {
   "cell_type": "code",
   "execution_count": 28,
   "metadata": {
    "scrolled": true
   },
   "outputs": [
    {
     "data": {
      "image/png": "[encoded data removed]",
      "text/plain": [
       "<matplotlib.figure.Figure at 0x1a8c3daff60>"
      ]
     },
     "metadata": {},
     "output_type": "display_data"
    }
   ],
   "source": [
    "plt.title(\"Testing Model\")\n",
    "\n",
    "# Training Instance\n",
    "plt.plot(train_inst[:-1], np.sin(train_inst[:-1]), \"bo\", markersize=15,alpha=0.5, label=\"Training Instance\")\n",
    "\n",
    "# Target to Predict\n",
    "plt.plot(train_inst[1:], np.sin(train_inst[1:]), \"ko\", markersize=10, label=\"target\")\n",
    "\n",
    "# Models Prediction\n",
    "plt.plot(train_inst[1:], y_pred[0,:,0], \"r.\", markersize=10, label=\"prediction\")\n",
    "\n",
    "plt.xlabel(\"Time\")\n",
    "plt.legend()\n",
    "plt.tight_layout()"
   ]
  },
  {
   "cell_type": "markdown",
   "metadata": {},
   "source": [
    "# Generating New Sequences\n",
    "** Note: Can give wacky results sometimes, like exponential growth**"
   ]
  },
  {
   "cell_type": "code",
   "execution_count": 29,
   "metadata": {},
   "outputs": [
    {
     "name": "stdout",
     "output_type": "stream",
     "text": [
      "INFO:tensorflow:Restoring parameters from ./rnn_time_series_model\n"
     ]
    }
   ],
   "source": [
    "with tf.Session() as sess:\n",
    "    saver.restore(sess, \"./rnn_time_series_model\")\n",
    "\n",
    "    # SEED WITH ZEROS\n",
    "    zero_seq_seed = [0. for i in range(num_time_steps)]\n",
    "    for iteration in range(len(ts_data.x_data) - num_time_steps):\n",
    "        X_batch = np.array(zero_seq_seed[-num_time_steps:]).reshape(1, num_time_steps, 1)\n",
    "        y_pred = sess.run(outputs, feed_dict={X: X_batch})\n",
    "        zero_seq_seed.append(y_pred[0, -1, 0])"
   ]
  },
  {
   "cell_type": "code",
   "execution_count": 31,
   "metadata": {},
   "outputs": [
    {
     "data": {
      "text/plain": [
       "<matplotlib.text.Text at 0x1aac569add8>"
      ]
     },
     "execution_count": 31,
     "metadata": {},
     "output_type": "execute_result"
    },
    {
     "data": {
      "image/png": "[encoded data removed]",
      "text/plain": [
       "<matplotlib.figure.Figure at 0x1a8c652ffd0>"
      ]
     },
     "metadata": {},
     "output_type": "display_data"
    }
   ],
   "source": [
    "plt.plot(ts_data.x_data, zero_seq_seed, \"b-\")\n",
    "plt.plot(ts_data.x_data[:num_time_steps], zero_seq_seed[:num_time_steps], \"r\", linewidth=3)\n",
    "plt.xlabel(\"Time\")\n",
    "plt.ylabel(\"Value\")"
   ]
  },
  {
   "cell_type": "code",
   "execution_count": 33,
   "metadata": {},
   "outputs": [
    {
     "name": "stdout",
     "output_type": "stream",
     "text": [
      "INFO:tensorflow:Restoring parameters from ./rnn_time_series_model\n"
     ]
    }
   ],
   "source": [
    "with tf.Session() as sess:\n",
    "    saver.restore(sess, \"./rnn_time_series_model\")\n",
    "\n",
    "    # SEED WITH Training Instance\n",
    "    training_instance = list(ts_data.y_true[:30])\n",
    "    for iteration in range(len(training_instance) -num_time_steps):\n",
    "        X_batch = np.array(training_instance[-num_time_steps:]).reshape(1, num_time_steps, 1)\n",
    "        y_pred = sess.run(outputs, feed_dict={X: X_batch})\n",
    "        training_instance.append(y_pred[0, -1, 0])"
   ]
  },
  {
   "cell_type": "code",
   "execution_count": 37,
   "metadata": {},
   "outputs": [
    {
     "data": {
      "text/plain": [
       "<matplotlib.text.Text at 0x1a8c65dae10>"
      ]
     },
     "execution_count": 37,
     "metadata": {},
     "output_type": "execute_result"
    },
    {
     "data": {
      "image/png": "[encoded data removed]",
      "text/plain": [
       "<matplotlib.figure.Figure at 0x1aac96aad30>"
      ]
     },
     "metadata": {},
     "output_type": "display_data"
    }
   ],
   "source": [
    "plt.plot(ts_data.x_data, ts_data.y_true, \"b-\")\n",
    "plt.plot(ts_data.x_data[:num_time_steps],training_instance[:num_time_steps], \"r-\", linewidth=3)\n",
    "plt.xlabel(\"Time\")"
   ]
  },
  {
   "cell_type": "markdown",
   "metadata": {
    "collapsed": true
   },
   "source": [
    "# Great Job!"
   ]
  }
 ],
 "metadata": {
  "kernelspec": {
   "display_name": "Python 3",
   "language": "python",
   "name": "python3"
  },
  "language_info": {
   "codemirror_mode": {
    "name": "ipython",
    "version": 3
   },
   "file_extension": ".py",
   "mimetype": "text/x-python",
   "name": "python",
   "nbconvert_exporter": "python",
   "pygments_lexer": "ipython3",
   "version": "3.7.4"
  }
 },
 "nbformat": 4,
 "nbformat_minor": 2
}
